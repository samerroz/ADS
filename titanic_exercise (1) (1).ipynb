{
 "cells": [
  {
   "cell_type": "markdown",
   "metadata": {},
   "source": [
    "# Exercise: Titanic Database\n",
    "    \n",
    "The JSON file `titanic.json` contains information about 1000+ passengers that were aboard the Titanic when it sunk in 1912. It's a document database: not all entries have the same fields, since there is a lot of missing data."
   ]
  },
  {
   "cell_type": "code",
   "execution_count": 24,
   "metadata": {},
   "outputs": [
    {
     "name": "stdout",
     "output_type": "stream",
     "text": [
      "Requirement already satisfied: pymongo in /usr/local/python/3.10.13/lib/python3.10/site-packages (4.6.2)\n",
      "Requirement already satisfied: dnspython<3.0.0,>=1.16.0 in /usr/local/python/3.10.13/lib/python3.10/site-packages (from pymongo) (2.6.1)\n"
     ]
    }
   ],
   "source": [
    "!pip install pymongo\n"
   ]
  },
  {
   "cell_type": "markdown",
   "metadata": {},
   "source": [
    "**1) Load the JSON file into a MongoDB database.**"
   ]
  },
  {
   "cell_type": "code",
   "execution_count": 25,
   "metadata": {},
   "outputs": [
    {
     "ename": "BulkWriteError",
     "evalue": "batch op errors occurred, full error: {'writeErrors': [{'index': 0, 'code': 11000, 'errmsg': 'E11000 duplicate key error collection: titanic.passengers index: _id_ dup key: { _id: 1 }', 'keyPattern': {'_id': 1}, 'keyValue': {'_id': 1}, 'op': {'_id': 1, 'survived': 0.0, 'name': 'Braund, Mr. Owen Harris', 'gender': 'male', 'age': 22.0, 'n_siblings_spouse': 1.0, 'n_parents_children': 0.0, 'ticket_number': 'A/5 21171', 'fare': 7.25, 'hometown': 'Bridgerule, Devon, England', 'boarded_from': 'Southampton', 'destination': \"Qu'Appelle Valley, Saskatchewan, Canada\", 'class': 3.0}}], 'writeConcernErrors': [], 'nInserted': 0, 'nUpserted': 0, 'nMatched': 0, 'nModified': 0, 'nRemoved': 0, 'upserted': []}",
     "output_type": "error",
     "traceback": [
      "\u001b[0;31m---------------------------------------------------------------------------\u001b[0m",
      "\u001b[0;31mBulkWriteError\u001b[0m                            Traceback (most recent call last)",
      "\u001b[1;32m/workspaces/ADS/titanic_exercise (1).ipynb Cell 4\u001b[0m line \u001b[0;36m1\n\u001b[1;32m      <a href='vscode-notebook-cell://codespaces%2Blegendary-space-eureka-pjjww7gr65gv269x6/workspaces/ADS/titanic_exercise%20%281%29.ipynb#X11sdnNjb2RlLXJlbW90ZQ%3D%3D?line=8'>9</a>\u001b[0m \u001b[39mwith\u001b[39;00m \u001b[39mopen\u001b[39m(\u001b[39m'\u001b[39m\u001b[39mtitanic.json\u001b[39m\u001b[39m'\u001b[39m, \u001b[39m'\u001b[39m\u001b[39mr\u001b[39m\u001b[39m'\u001b[39m) \u001b[39mas\u001b[39;00m file:\n\u001b[1;32m     <a href='vscode-notebook-cell://codespaces%2Blegendary-space-eureka-pjjww7gr65gv269x6/workspaces/ADS/titanic_exercise%20%281%29.ipynb#X11sdnNjb2RlLXJlbW90ZQ%3D%3D?line=9'>10</a>\u001b[0m     titanic_data \u001b[39m=\u001b[39m json\u001b[39m.\u001b[39mload(file)\n\u001b[0;32m---> <a href='vscode-notebook-cell://codespaces%2Blegendary-space-eureka-pjjww7gr65gv269x6/workspaces/ADS/titanic_exercise%20%281%29.ipynb#X11sdnNjb2RlLXJlbW90ZQ%3D%3D?line=12'>13</a>\u001b[0m collection\u001b[39m.\u001b[39;49minsert_many(titanic_data)\n\u001b[1;32m     <a href='vscode-notebook-cell://codespaces%2Blegendary-space-eureka-pjjww7gr65gv269x6/workspaces/ADS/titanic_exercise%20%281%29.ipynb#X11sdnNjb2RlLXJlbW90ZQ%3D%3D?line=14'>15</a>\u001b[0m \u001b[39mprint\u001b[39m(\u001b[39mf\u001b[39m\u001b[39m\"\u001b[39m\u001b[39mNumber of documents in the collection: \u001b[39m\u001b[39m{\u001b[39;00mcollection\u001b[39m.\u001b[39mcount_documents({})\u001b[39m}\u001b[39;00m\u001b[39m\"\u001b[39m)\n",
      "File \u001b[0;32m~/.python/current/lib/python3.10/site-packages/pymongo/_csot.py:107\u001b[0m, in \u001b[0;36mapply.<locals>.csot_wrapper\u001b[0;34m(self, *args, **kwargs)\u001b[0m\n\u001b[1;32m    105\u001b[0m         \u001b[39mwith\u001b[39;00m _TimeoutContext(timeout):\n\u001b[1;32m    106\u001b[0m             \u001b[39mreturn\u001b[39;00m func(\u001b[39mself\u001b[39m, \u001b[39m*\u001b[39margs, \u001b[39m*\u001b[39m\u001b[39m*\u001b[39mkwargs)\n\u001b[0;32m--> 107\u001b[0m \u001b[39mreturn\u001b[39;00m func(\u001b[39mself\u001b[39;49m, \u001b[39m*\u001b[39;49margs, \u001b[39m*\u001b[39;49m\u001b[39m*\u001b[39;49mkwargs)\n",
      "File \u001b[0;32m~/.python/current/lib/python3.10/site-packages/pymongo/collection.py:755\u001b[0m, in \u001b[0;36mCollection.insert_many\u001b[0;34m(self, documents, ordered, bypass_document_validation, session, comment)\u001b[0m\n\u001b[1;32m    753\u001b[0m blk \u001b[39m=\u001b[39m _Bulk(\u001b[39mself\u001b[39m, ordered, bypass_document_validation, comment\u001b[39m=\u001b[39mcomment)\n\u001b[1;32m    754\u001b[0m blk\u001b[39m.\u001b[39mops \u001b[39m=\u001b[39m \u001b[39mlist\u001b[39m(gen())\n\u001b[0;32m--> 755\u001b[0m blk\u001b[39m.\u001b[39;49mexecute(write_concern, session\u001b[39m=\u001b[39;49msession)\n\u001b[1;32m    756\u001b[0m \u001b[39mreturn\u001b[39;00m InsertManyResult(inserted_ids, write_concern\u001b[39m.\u001b[39macknowledged)\n",
      "File \u001b[0;32m~/.python/current/lib/python3.10/site-packages/pymongo/bulk.py:576\u001b[0m, in \u001b[0;36m_Bulk.execute\u001b[0;34m(self, write_concern, session)\u001b[0m\n\u001b[1;32m    574\u001b[0m         \u001b[39mreturn\u001b[39;00m \u001b[39mNone\u001b[39;00m\n\u001b[1;32m    575\u001b[0m \u001b[39melse\u001b[39;00m:\n\u001b[0;32m--> 576\u001b[0m     \u001b[39mreturn\u001b[39;00m \u001b[39mself\u001b[39;49m\u001b[39m.\u001b[39;49mexecute_command(generator, write_concern, session)\n",
      "File \u001b[0;32m~/.python/current/lib/python3.10/site-packages/pymongo/bulk.py:446\u001b[0m, in \u001b[0;36m_Bulk.execute_command\u001b[0;34m(self, generator, write_concern, session)\u001b[0m\n\u001b[1;32m    443\u001b[0m client\u001b[39m.\u001b[39m_retryable_write(\u001b[39mself\u001b[39m\u001b[39m.\u001b[39mis_retryable, retryable_bulk, session, bulk\u001b[39m=\u001b[39m\u001b[39mself\u001b[39m)\n\u001b[1;32m    445\u001b[0m \u001b[39mif\u001b[39;00m full_result[\u001b[39m\"\u001b[39m\u001b[39mwriteErrors\u001b[39m\u001b[39m\"\u001b[39m] \u001b[39mor\u001b[39;00m full_result[\u001b[39m\"\u001b[39m\u001b[39mwriteConcernErrors\u001b[39m\u001b[39m\"\u001b[39m]:\n\u001b[0;32m--> 446\u001b[0m     _raise_bulk_write_error(full_result)\n\u001b[1;32m    447\u001b[0m \u001b[39mreturn\u001b[39;00m full_result\n",
      "File \u001b[0;32m~/.python/current/lib/python3.10/site-packages/pymongo/bulk.py:157\u001b[0m, in \u001b[0;36m_raise_bulk_write_error\u001b[0;34m(full_result)\u001b[0m\n\u001b[1;32m    155\u001b[0m \u001b[39mif\u001b[39;00m full_result[\u001b[39m\"\u001b[39m\u001b[39mwriteErrors\u001b[39m\u001b[39m\"\u001b[39m]:\n\u001b[1;32m    156\u001b[0m     full_result[\u001b[39m\"\u001b[39m\u001b[39mwriteErrors\u001b[39m\u001b[39m\"\u001b[39m]\u001b[39m.\u001b[39msort(key\u001b[39m=\u001b[39m\u001b[39mlambda\u001b[39;00m error: error[\u001b[39m\"\u001b[39m\u001b[39mindex\u001b[39m\u001b[39m\"\u001b[39m])\n\u001b[0;32m--> 157\u001b[0m \u001b[39mraise\u001b[39;00m BulkWriteError(full_result)\n",
      "\u001b[0;31mBulkWriteError\u001b[0m: batch op errors occurred, full error: {'writeErrors': [{'index': 0, 'code': 11000, 'errmsg': 'E11000 duplicate key error collection: titanic.passengers index: _id_ dup key: { _id: 1 }', 'keyPattern': {'_id': 1}, 'keyValue': {'_id': 1}, 'op': {'_id': 1, 'survived': 0.0, 'name': 'Braund, Mr. Owen Harris', 'gender': 'male', 'age': 22.0, 'n_siblings_spouse': 1.0, 'n_parents_children': 0.0, 'ticket_number': 'A/5 21171', 'fare': 7.25, 'hometown': 'Bridgerule, Devon, England', 'boarded_from': 'Southampton', 'destination': \"Qu'Appelle Valley, Saskatchewan, Canada\", 'class': 3.0}}], 'writeConcernErrors': [], 'nInserted': 0, 'nUpserted': 0, 'nMatched': 0, 'nModified': 0, 'nRemoved': 0, 'upserted': []}"
     ]
    }
   ],
   "source": [
    "import pymongo\n",
    "from pymongo import MongoClient\n",
    "import json\n",
    "\n",
    "client = MongoClient('mongodb://localhost:27017/')\n",
    "db = client['titanic']\n",
    "collection = db['passengers']\n",
    "\n",
    "with open('titanic.json', 'r') as file:\n",
    "    titanic_data = json.load(file)\n",
    "\n",
    "\n",
    "collection.insert_many(titanic_data)\n",
    "\n",
    "print(f\"Number of documents in the collection: {collection.count_documents({})}\")\n"
   ]
  },
  {
   "cell_type": "markdown",
   "metadata": {},
   "source": [
    "**2) Find out exactly how many passengers (number of documents) there are in the database.**"
   ]
  },
  {
   "cell_type": "code",
   "execution_count": null,
   "metadata": {},
   "outputs": [
    {
     "name": "stdout",
     "output_type": "stream",
     "text": [
      "There are 1309 passengers recorded in the database.\n"
     ]
    }
   ],
   "source": [
    "passenger_count = collection.count_documents({})\n",
    "\n",
    "\n",
    "print(f\"There are {passenger_count} passengers recorded in the database.\")"
   ]
  },
  {
   "cell_type": "markdown",
   "metadata": {},
   "source": [
    "**3) How old was passenger \"Bourke, Mr. John\"? (use the fields `name` and `age`)**"
   ]
  },
  {
   "cell_type": "code",
   "execution_count": null,
   "metadata": {},
   "outputs": [
    {
     "name": "stdout",
     "output_type": "stream",
     "text": [
      "John's age: 40.0\n"
     ]
    }
   ],
   "source": [
    "# Search for \"Bourke, Mr. John\" in the database\n",
    "bourke_mr_john = collection.find_one({'name': 'Bourke, Mr. John'})\n",
    "\n",
    "print(f\"John's age: {bourke_mr_john['age']}\")\n",
    "\n"
   ]
  },
  {
   "cell_type": "markdown",
   "metadata": {},
   "source": [
    "**4) The field `survived` tells us whether a passenger survived (value 1) or not (value 0). Find out how many survived and how many did not (note: many have missing data).**"
   ]
  },
  {
   "cell_type": "code",
   "execution_count": null,
   "metadata": {},
   "outputs": [
    {
     "name": "stdout",
     "output_type": "stream",
     "text": [
      "Number of survivors: 342\n",
      "Number of non-survivors: 549\n"
     ]
    }
   ],
   "source": [
    "# Counting survivors and non-survivors\n",
    "survivors = collection.count_documents({\"survived\": 1})\n",
    "non_survivors = collection.count_documents({\"survived\": 0})\n",
    "\n",
    "print(f\"Number of survivors: {survivors}\")\n",
    "print(f\"Number of non-survivors: {non_survivors}\")"
   ]
  },
  {
   "cell_type": "markdown",
   "metadata": {},
   "source": [
    "**5) Who was the oldest survivor of the Titanic?**"
   ]
  },
  {
   "cell_type": "code",
   "execution_count": null,
   "metadata": {},
   "outputs": [
    {
     "name": "stdout",
     "output_type": "stream",
     "text": [
      "The oldest survivor is Barkworth, Mr. Algernon Henry Wilson at 80.0 years old.\n"
     ]
    }
   ],
   "source": [
    "# Find the oldest survivor\n",
    "oldest_survivor = collection.find_one({\"survived\": 1, \"age\": {\"$ne\": None}}, sort=[(\"age\", pymongo.DESCENDING)])\n",
    "print(f\"The oldest survivor is {name} at {age} years old.\")"
   ]
  },
  {
   "cell_type": "markdown",
   "metadata": {},
   "source": [
    "**6) Find the survival rate (survivors/total) for each ticket class. (use the field `class`. There were three: 1, 2, 3)**"
   ]
  },
  {
   "cell_type": "code",
   "execution_count": null,
   "metadata": {},
   "outputs": [
    {
     "name": "stdout",
     "output_type": "stream",
     "text": [
      "Survival rate for class 1: 42.02%\n",
      "Survival rate for class 2: 31.62%\n",
      "Survival rate for class 3: 16.71%\n"
     ]
    }
   ],
   "source": [
    "# Initialize a dictionary to hold the survival rates\n",
    "survival_rates = {}\n",
    "\n",
    "# Iterate over each class\n",
    "for ticket_class in [1, 2, 3]:\n",
    "    # Count total passengers in this class\n",
    "    total_passengers = collection.count_documents({\"class\": ticket_class})\n",
    "    # Count total survivors in this class\n",
    "    survivors = collection.count_documents({\"class\": ticket_class, \"survived\": 1})\n",
    "    \n",
    "    # Calculate the survival rate for this class\n",
    "    survival_rate = (survivors / total_passengers) if total_passengers > 0 else 0\n",
    "    survival_rates[ticket_class] = survival_rate\n",
    "\n",
    "# Output the survival rates for each class\n",
    "for ticket_class, rate in survival_rates.items():\n",
    "    print(f\"Survival rate for class {ticket_class}: {rate:.2%}\")\n"
   ]
  },
  {
   "cell_type": "markdown",
   "metadata": {},
   "source": [
    "**7) Which five passengers paid the five highest ticket prices? (use the field `fare`)**"
   ]
  },
  {
   "cell_type": "code",
   "execution_count": null,
   "metadata": {},
   "outputs": [
    {
     "name": "stdout",
     "output_type": "stream",
     "text": [
      "Lesurer, Mr. Gustave J paid a fare of 512.3292\n",
      "Ward, Miss. Anna paid a fare of 512.3292\n",
      "Cardeza, Mrs. James Warburton Martinez (Charlotte Wardle Drake) paid a fare of 512.3292\n",
      "Cardeza, Mr. Thomas Drake Martinez paid a fare of 512.3292\n",
      "Fortune, Miss. Mabel Helen paid a fare of 263.0\n"
     ]
    }
   ],
   "source": [
    "# Find the top five highest fares\n",
    "top_fares = collection.find({}, {\"name\": 1, \"fare\": 1}).sort(\"fare\", pymongo.DESCENDING).limit(5)\n",
    "\n",
    "for passenger in top_fares:\n",
    "    print(f\"{passenger['name']} paid a fare of {passenger['fare']}\")\n"
   ]
  }
 ],
 "metadata": {
  "kernelspec": {
   "display_name": "Python 3",
   "language": "python",
   "name": "python3"
  },
  "language_info": {
   "codemirror_mode": {
    "name": "ipython",
    "version": 3
   },
   "file_extension": ".py",
   "mimetype": "text/x-python",
   "name": "python",
   "nbconvert_exporter": "python",
   "pygments_lexer": "ipython3",
   "version": "3.10.13"
  }
 },
 "nbformat": 4,
 "nbformat_minor": 4
}
